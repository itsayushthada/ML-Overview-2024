{
  "nbformat": 4,
  "nbformat_minor": 0,
  "metadata": {
    "colab": {
      "provenance": [],
      "gpuType": "T4"
    },
    "kernelspec": {
      "name": "python3",
      "display_name": "Python 3"
    },
    "language_info": {
      "name": "python"
    },
    "accelerator": "GPU"
  },
  "cells": [
    {
      "cell_type": "code",
      "execution_count": 1,
      "metadata": {
        "colab": {
          "base_uri": "https://localhost:8080/"
        },
        "id": "kV6LfL4LmMRO",
        "outputId": "81bc937b-4c4e-4264-cdc9-2a9d2fca0308"
      },
      "outputs": [
        {
          "output_type": "stream",
          "name": "stdout",
          "text": [
            "Installing PySpark 3.2.3 and Spark NLP 5.4.1\n",
            "setup Colab for PySpark 3.2.3 and Spark NLP 5.4.1\n",
            "\u001b[2K     \u001b[90m━━━━━━━━━━━━━━━━━━━━━━━━━━━━━━━━━━━━━━━━\u001b[0m \u001b[32m281.5/281.5 MB\u001b[0m \u001b[31m5.9 MB/s\u001b[0m eta \u001b[36m0:00:00\u001b[0m\n",
            "\u001b[?25h  Preparing metadata (setup.py) ... \u001b[?25l\u001b[?25hdone\n",
            "\u001b[2K     \u001b[90m━━━━━━━━━━━━━━━━━━━━━━━━━━━━━━━━━━━━━━━━\u001b[0m \u001b[32m55.6/55.6 kB\u001b[0m \u001b[31m3.4 MB/s\u001b[0m eta \u001b[36m0:00:00\u001b[0m\n",
            "\u001b[2K   \u001b[90m━━━━━━━━━━━━━━━━━━━━━━━━━━━━━━━━━━━━━━━━\u001b[0m \u001b[32m579.2/579.2 kB\u001b[0m \u001b[31m33.4 MB/s\u001b[0m eta \u001b[36m0:00:00\u001b[0m\n",
            "\u001b[2K   \u001b[90m━━━━━━━━━━━━━━━━━━━━━━━━━━━━━━━━━━━━━━━━\u001b[0m \u001b[32m199.7/199.7 kB\u001b[0m \u001b[31m13.3 MB/s\u001b[0m eta \u001b[36m0:00:00\u001b[0m\n",
            "\u001b[?25h  Building wheel for pyspark (setup.py) ... \u001b[?25l\u001b[?25hdone\n"
          ]
        }
      ],
      "source": [
        "! wget -q http://setup.johnsnowlabs.com/colab.sh -O - | bash"
      ]
    },
    {
      "cell_type": "code",
      "source": [
        "import sparknlp\n",
        "import pyspark.sql.functions as F\n",
        "from sparknlp.annotator import *\n",
        "from sparknlp.base import *\n",
        "from sparknlp.pretrained import PretrainedPipeline\n",
        "from pyspark.ml import Pipeline\n",
        "\n",
        "spark = sparknlp.start(gpu = True)\n",
        "\n",
        "print(\"Spark NLP version\", sparknlp.version())\n",
        "print(\"Apache Spark version:\", spark.version)"
      ],
      "metadata": {
        "colab": {
          "base_uri": "https://localhost:8080/"
        },
        "id": "ybvjPU3ymSlQ",
        "outputId": "952e8017-e03f-4b75-ba3c-bb22f2a6a149"
      },
      "execution_count": 3,
      "outputs": [
        {
          "output_type": "stream",
          "name": "stdout",
          "text": [
            "Spark NLP version 5.4.1\n",
            "Apache Spark version: 3.2.3\n"
          ]
        }
      ]
    },
    {
      "cell_type": "code",
      "source": [
        "#download training data\n",
        "!wget -q https://raw.githubusercontent.com/JohnSnowLabs/spark-nlp/master/src/test/resources/conll2003/eng.train\n",
        "!wget -q https://raw.githubusercontent.com/JohnSnowLabs/spark-nlp/master/src/test/resources/conll2003/eng.testa"
      ],
      "metadata": {
        "id": "n_LeAnk-otJ9"
      },
      "execution_count": 4,
      "outputs": []
    },
    {
      "cell_type": "code",
      "source": [
        "from sparknlp.training import CoNLL\n",
        "\n",
        "training_data = CoNLL().readDataset(spark, './eng.train')\n",
        "testing_data = CoNLL().readDataset(spark, './eng.testa')"
      ],
      "metadata": {
        "id": "lgt6u2T2oxov"
      },
      "execution_count": 5,
      "outputs": []
    },
    {
      "cell_type": "code",
      "source": [
        "print(f\"(Train count: {training_data.count()} Test count: {testing_data.count()})\")"
      ],
      "metadata": {
        "colab": {
          "base_uri": "https://localhost:8080/"
        },
        "id": "MWZuel64pmcn",
        "outputId": "cb2ff2de-f30b-4498-bf4c-e977ff18ff87"
      },
      "execution_count": 6,
      "outputs": [
        {
          "output_type": "stream",
          "name": "stdout",
          "text": [
            "(Train count: 14041 Test count: 3250)\n"
          ]
        }
      ]
    },
    {
      "cell_type": "code",
      "source": [
        "training_data.select(\n",
        "    F.explode(F.arrays_zip('token', 'pos', 'label')).alias(\"cols\")\n",
        ").select(\n",
        "    F.col(\"cols.token.result\").alias(\"token\"),\n",
        "    F.col(\"cols.pos.result\").alias(\"pos\"),\n",
        "    F.col(\"cols.label.result\").alias(\"ner_label\")\n",
        ").show(truncate=50)"
      ],
      "metadata": {
        "colab": {
          "base_uri": "https://localhost:8080/"
        },
        "id": "peNXO-oJpqsC",
        "outputId": "b06c09ca-43fd-4153-c71d-d9bb34f85c66"
      },
      "execution_count": 7,
      "outputs": [
        {
          "output_type": "stream",
          "name": "stdout",
          "text": [
            "+----------+---+---------+\n",
            "|     token|pos|ner_label|\n",
            "+----------+---+---------+\n",
            "|        EU|NNP|    B-ORG|\n",
            "|   rejects|VBZ|        O|\n",
            "|    German| JJ|   B-MISC|\n",
            "|      call| NN|        O|\n",
            "|        to| TO|        O|\n",
            "|   boycott| VB|        O|\n",
            "|   British| JJ|   B-MISC|\n",
            "|      lamb| NN|        O|\n",
            "|         .|  .|        O|\n",
            "|     Peter|NNP|    B-PER|\n",
            "| Blackburn|NNP|    I-PER|\n",
            "|  BRUSSELS|NNP|    B-LOC|\n",
            "|1996-08-22| CD|        O|\n",
            "|       The| DT|        O|\n",
            "|  European|NNP|    B-ORG|\n",
            "|Commission|NNP|    I-ORG|\n",
            "|      said|VBD|        O|\n",
            "|        on| IN|        O|\n",
            "|  Thursday|NNP|        O|\n",
            "|        it|PRP|        O|\n",
            "+----------+---+---------+\n",
            "only showing top 20 rows\n",
            "\n"
          ]
        }
      ]
    },
    {
      "cell_type": "markdown",
      "source": [
        "### Training"
      ],
      "metadata": {
        "id": "MWMYFEpYqA0V"
      }
    },
    {
      "cell_type": "code",
      "source": [
        "embeddings = DeBertaEmbeddings.pretrained(\"deberta_v3_base\", \"en\") \\\n",
        "                              .setInputCols(\"document\", \"token\") \\\n",
        "                              .setOutputCol(\"embeddings\")"
      ],
      "metadata": {
        "colab": {
          "base_uri": "https://localhost:8080/"
        },
        "id": "fajalEvqp34i",
        "outputId": "d6bb7b4f-e0cd-4d1d-bced-f7ccb30e256f"
      },
      "execution_count": 8,
      "outputs": [
        {
          "output_type": "stream",
          "name": "stdout",
          "text": [
            "deberta_v3_base download started this may take some time.\n",
            "Approximate size to download 415 MB\n",
            "[OK!]\n"
          ]
        }
      ]
    },
    {
      "cell_type": "code",
      "source": [
        "nerTagger = NerDLApproach().setInputCols([\"sentence\", \"token\", \"embeddings\"])\\\n",
        "                            .setLabelColumn(\"label\")\\\n",
        "                            .setOutputCol(\"ner\")\\\n",
        "                            .setMaxEpochs(2)\\\n",
        "                            .setLr(0.002)\\\n",
        "                            .setBatchSize(16)\\\n",
        "                            .setRandomSeed(0)\\\n",
        "                            .setVerbose(1)\\\n",
        "                            .setValidationSplit(0.15)"
      ],
      "metadata": {
        "id": "hFoJ2SGrqRiI"
      },
      "execution_count": 9,
      "outputs": []
    },
    {
      "cell_type": "code",
      "source": [
        "ner_converter = NerConverter().setInputCols(['document', 'token', 'ner']) \\\n",
        "                              .setOutputCol('ner_chunk')"
      ],
      "metadata": {
        "id": "ZrAwE7c9qZJ7"
      },
      "execution_count": 10,
      "outputs": []
    },
    {
      "cell_type": "code",
      "source": [
        "ner_pipeline = Pipeline(stages=[embeddings, nerTagger, ner_converter])"
      ],
      "metadata": {
        "id": "SlC6IaK4qhkw"
      },
      "execution_count": 11,
      "outputs": []
    },
    {
      "cell_type": "code",
      "source": [
        "%%time\n",
        "ner_model = ner_pipeline.fit(training_data.limit(5000).repartition(1))"
      ],
      "metadata": {
        "colab": {
          "base_uri": "https://localhost:8080/"
        },
        "id": "22yn8Cjeqp5a",
        "outputId": "253a5b7e-abd1-4780-c911-87e7d4b93d78"
      },
      "execution_count": 12,
      "outputs": [
        {
          "output_type": "stream",
          "name": "stdout",
          "text": [
            "CPU times: user 1.01 s, sys: 145 ms, total: 1.15 s\n",
            "Wall time: 3min 42s\n"
          ]
        }
      ]
    },
    {
      "cell_type": "markdown",
      "source": [
        "### Evalaution"
      ],
      "metadata": {
        "id": "9Jzb0N6IquhW"
      }
    },
    {
      "cell_type": "code",
      "source": [
        "predictions = ner_model.transform(testing_data.limit(1000))"
      ],
      "metadata": {
        "id": "rBYzAqJdqu2N"
      },
      "execution_count": 13,
      "outputs": []
    },
    {
      "cell_type": "code",
      "source": [
        "preds_df = predictions.select(\n",
        "    F.explode(F.arrays_zip('token', 'label', 'ner')).alias(\"cols\")\n",
        ").select(\n",
        "    F.col(\"cols.token.result\").alias(\"token\"),\n",
        "    F.col(\"cols.label.result\").alias(\"ground_truth\"),\n",
        "    F.col(\"cols.ner.result\").alias(\"prediction\")\n",
        ")\n",
        "\n",
        "preds_df.show(truncate=50)"
      ],
      "metadata": {
        "colab": {
          "base_uri": "https://localhost:8080/"
        },
        "id": "91PyL54hq4VE",
        "outputId": "f8315c1b-f07b-4322-ca0a-92aad1afa2b9"
      },
      "execution_count": 14,
      "outputs": [
        {
          "output_type": "stream",
          "name": "stdout",
          "text": [
            "+--------------+------------+----------+\n",
            "|         token|ground_truth|prediction|\n",
            "+--------------+------------+----------+\n",
            "|       CRICKET|           O|         O|\n",
            "|             -|           O|         O|\n",
            "|LEICESTERSHIRE|       B-ORG|     B-ORG|\n",
            "|          TAKE|           O|         O|\n",
            "|          OVER|           O|         O|\n",
            "|            AT|           O|         O|\n",
            "|           TOP|           O|         O|\n",
            "|         AFTER|           O|         O|\n",
            "|       INNINGS|           O|     B-LOC|\n",
            "|       VICTORY|           O|         O|\n",
            "|             .|           O|         O|\n",
            "|        LONDON|       B-LOC|     B-LOC|\n",
            "|    1996-08-30|           O|         O|\n",
            "|          West|      B-MISC|    B-MISC|\n",
            "|        Indian|      I-MISC|    I-MISC|\n",
            "|   all-rounder|           O|         O|\n",
            "|          Phil|       B-PER|     B-PER|\n",
            "|       Simmons|       I-PER|     I-PER|\n",
            "|          took|           O|         O|\n",
            "|          four|           O|         O|\n",
            "+--------------+------------+----------+\n",
            "only showing top 20 rows\n",
            "\n"
          ]
        }
      ]
    },
    {
      "cell_type": "code",
      "source": [
        "from sklearn.metrics import classification_report\n",
        "\n",
        "preds_df_pd = preds_df.toPandas()\n",
        "print(classification_report(preds_df_pd['ground_truth'], preds_df_pd['prediction']))"
      ],
      "metadata": {
        "colab": {
          "base_uri": "https://localhost:8080/"
        },
        "id": "kJ2Ds_-NrA8u",
        "outputId": "2b3a37b5-80d5-4c55-ac0e-17bf6c2055f2"
      },
      "execution_count": 15,
      "outputs": [
        {
          "output_type": "stream",
          "name": "stdout",
          "text": [
            "              precision    recall  f1-score   support\n",
            "\n",
            "       B-LOC       0.92      0.89      0.91       559\n",
            "      B-MISC       0.75      0.84      0.79       190\n",
            "       B-ORG       0.81      0.85      0.83       355\n",
            "       B-PER       0.99      0.97      0.98       654\n",
            "       I-LOC       0.87      0.65      0.74        69\n",
            "      I-MISC       0.82      0.75      0.79        93\n",
            "       I-ORG       0.83      0.83      0.83       181\n",
            "       I-PER       1.00      0.97      0.99       443\n",
            "           O       1.00      1.00      1.00     11589\n",
            "\n",
            "    accuracy                           0.98     14133\n",
            "   macro avg       0.89      0.86      0.87     14133\n",
            "weighted avg       0.98      0.98      0.98     14133\n",
            "\n"
          ]
        }
      ]
    },
    {
      "cell_type": "code",
      "source": [],
      "metadata": {
        "id": "2yscOHUsrTCq"
      },
      "execution_count": null,
      "outputs": []
    }
  ]
}