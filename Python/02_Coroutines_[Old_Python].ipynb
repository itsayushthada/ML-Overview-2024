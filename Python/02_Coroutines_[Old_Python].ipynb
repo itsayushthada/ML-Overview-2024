{
  "nbformat": 4,
  "nbformat_minor": 0,
  "metadata": {
    "colab": {
      "provenance": []
    },
    "kernelspec": {
      "name": "python3",
      "display_name": "Python 3"
    },
    "language_info": {
      "name": "python"
    }
  },
  "cells": [
    {
      "cell_type": "code",
      "execution_count": 1,
      "metadata": {
        "id": "y8Vmf4BgxDRZ"
      },
      "outputs": [],
      "source": [
        "import random"
      ]
    },
    {
      "cell_type": "markdown",
      "source": [
        "# Coroutines\n",
        "Coroutines are generalizations of subroutines. They are used for cooperative multitasking where a process voluntarily yield (give away) control periodically or when idle in order to enable multiple applications to be run simultaneously. The difference between coroutine and subroutine is :  \n",
        "\n",
        "+ **Unlike subroutines**, coroutines have many entry points for suspending and resuming execution. Coroutine can suspend its execution and transfer control to other coroutine and can resume again execution from the point it left off.\n",
        "\n",
        "\n",
        "+ **Unlike subroutines**, there is no main function to call coroutines in a particular order and coordinate the results. Coroutines are cooperative that means they link together to form a pipeline. One coroutine may consume input data and send it to other that process it. Finally, there may be a coroutine to display the result.\n",
        "\n",
        "\n",
        "Now you might be thinking how coroutine is different from threads, both seem to do the same job.\n",
        "In the case of threads, it’s an operating system (or run time environment) that switches between threads according to the scheduler. While in the case of a coroutine, it’s the programmer and programming language which decides when to switch coroutines. Coroutines work cooperatively multitask by suspending and resuming at set points by the programmer.\n",
        "\n",
        "***Nice Read:*** https://www.dabeaz.com/coroutines/Coroutines.pdf"
      ],
      "metadata": {
        "id": "jJ9Ak9_rxSgZ"
      }
    },
    {
      "cell_type": "markdown",
      "source": [
        "## Difference b/n Courutines/Generators\n",
        "\n",
        "You're correct that both generators and generator-based coroutines can receive data through the send() method, which can blur the distinction between the two. However, there are key conceptual and practical differences that separate them:\n",
        "\n",
        "### 1. *Intended Use Case*\n",
        "   - *Generators*: Primarily designed to produce a sequence of values, often used in iteration. Their primary focus is on yielding data outward, although they can also receive data using send().\n",
        "   - *Generator-Based Coroutines*: Intended for cooperative multitasking, where they manage tasks, handle events, or maintain state across multiple send() calls. The focus is on controlling the flow of execution, often based on external inputs.\n",
        "\n",
        "### 2. *Flow Control*\n",
        "   - *Generators*: Typically follow a linear flow, where the generator produces a sequence of values until it is exhausted. The send() method allows external data to influence the next value generated, but the primary flow is still to produce a sequence.\n",
        "   - *Generator-Based Coroutines*: The flow is more event-driven or state-driven. They wait for data (or events) to be sent to them, react to that data, and may or may not produce a value in response. The emphasis is on reacting to inputs rather than simply producing outputs.\n",
        "\n",
        "### 3. *Return vs. Yield*\n",
        "   - *Generators*: The goal is usually to return values over time, yielding multiple values during its execution.\n",
        "   - *Generator-Based Coroutines*: The goal is typically to manage state or handle inputs without necessarily producing a series of outputs. The coroutine may yield for the purpose of pausing execution rather than for producing a value.\n",
        "\n",
        "### 4. *Lifecycle and Termination*\n",
        "   - *Generators*: They generally run until they exhaust their sequence of values, at which point they raise StopIteration.\n",
        "   - *Generator-Based Coroutines*: They often run indefinitely, handling inputs until they are explicitly terminated (e.g., via close()), making them suitable for long-running tasks or event loops.\n",
        "\n",
        "### 5. *Conceptual Focus*\n",
        "   - *Generators*: Conceptually focused on generating data in a lazy fashion.\n",
        "   - *Generator-Based Coroutines*: Conceptually focused on managing tasks, handling data over time, and maintaining a responsive state.\n",
        "\n",
        "### Example of Differences:\n",
        "\n",
        "- *Generator Example*:\n",
        "```\n",
        "  python\n",
        "  def simple_generator():\n",
        "      for i in range(5):\n",
        "          x = yield i  # Yield a value, optionally receive one via send()\n",
        "          print(f\"Received from send: {x}\")\n",
        "\n",
        "  gen = simple_generator()\n",
        "  print(next(gen))  # Outputs: 0\n",
        "  gen.send(10)  # Outputs: Received from send: 10, then yields 1\n",
        " ```\n",
        "\n",
        "- *Coroutine Example*:\n",
        "```\n",
        "  python\n",
        "  def simple_coroutine():\n",
        "      print(\"Coroutine started\")\n",
        "      while True:\n",
        "          value = yield  # Wait for a value to be sent\n",
        "          print(f\"Received: {value}\")\n",
        "          if value == \"exit\":\n",
        "              break\n",
        "\n",
        "  coro = simple_coroutine()\n",
        "  next(coro)  # Start the coroutine, \"Coroutine started\" is printed\n",
        "  coro.send(\"Hello\")  # Outputs: Received: Hello\n",
        "  coro.send(\"exit\")  # Outputs: Received: exit, then exits\n",
        " ```\n",
        "\n",
        "In this example, the generator is primarily focused on producing values (even if influenced by send()), while the coroutine is more focused on managing the flow of execution based on the data it receives."
      ],
      "metadata": {
        "id": "YIeCE_ta4Skw"
      }
    },
    {
      "cell_type": "markdown",
      "source": [
        "## Consuming Data\n",
        "\n",
        "Generators produce data for iteration while coroutines can also consume data.\n",
        "In Python 2.5, a slight modification to the yield statement was introduced, now yield can also be used as an expression. For example on the right side of the assignment –\n",
        "```\n",
        "line = (yield)\n",
        "```\n",
        "\n",
        "whatever value we send to coroutine is captured and returned by (yield) expression.\n",
        "\n",
        "A value can be sent to the coroutine by send() method."
      ],
      "metadata": {
        "id": "0M8RTJXf0cVA"
      }
    },
    {
      "cell_type": "code",
      "source": [
        "def greet_me():\n",
        "    print(\"Introduce Yourself:\")\n",
        "    while True:\n",
        "        name = (yield)\n",
        "        print(f\"Hello {name}\")"
      ],
      "metadata": {
        "id": "x-yQVRrdxTxo"
      },
      "execution_count": 4,
      "outputs": []
    },
    {
      "cell_type": "code",
      "source": [
        "# Creating Coroutine\n",
        "func = greet_me()"
      ],
      "metadata": {
        "id": "Cy7SI0vo1C95"
      },
      "execution_count": 10,
      "outputs": []
    },
    {
      "cell_type": "code",
      "source": [
        "# This will start execution of coroutine\n",
        "# next(...) will also work\n",
        "# Generators do not have __next__ method\n",
        "func.__next__()"
      ],
      "metadata": {
        "colab": {
          "base_uri": "https://localhost:8080/"
        },
        "id": "jIGcn8kp1Q74",
        "outputId": "f60ac45a-bf30-43d0-8b14-6f63c44061b6"
      },
      "execution_count": 14,
      "outputs": [
        {
          "output_type": "stream",
          "name": "stdout",
          "text": [
            "Hello None\n"
          ]
        }
      ]
    },
    {
      "cell_type": "code",
      "source": [
        "func.send(\"Ayush\")"
      ],
      "metadata": {
        "colab": {
          "base_uri": "https://localhost:8080/"
        },
        "id": "23hfeSB61YX3",
        "outputId": "95bbecaa-a11c-46f0-cf96-5154025557ed"
      },
      "execution_count": 8,
      "outputs": [
        {
          "output_type": "stream",
          "name": "stdout",
          "text": [
            "Hello Ayush\n"
          ]
        }
      ]
    },
    {
      "cell_type": "code",
      "source": [
        "func.send(\"Ayush Thada\")"
      ],
      "metadata": {
        "colab": {
          "base_uri": "https://localhost:8080/"
        },
        "id": "tlcNfc2V1dQJ",
        "outputId": "c4490378-e96f-4101-b6e7-4736364d2e1a"
      },
      "execution_count": 9,
      "outputs": [
        {
          "output_type": "stream",
          "name": "stdout",
          "text": [
            "Hello Ayush Thada\n"
          ]
        }
      ]
    },
    {
      "cell_type": "code",
      "source": [
        "func"
      ],
      "metadata": {
        "colab": {
          "base_uri": "https://localhost:8080/"
        },
        "id": "VoOaD_bW1yE1",
        "outputId": "f2d6ed19-afe6-4d3d-cf0f-92c39df9d7d2"
      },
      "execution_count": 16,
      "outputs": [
        {
          "output_type": "execute_result",
          "data": {
            "text/plain": [
              "<generator object greet_me at 0x7ef27b98e180>"
            ]
          },
          "metadata": {},
          "execution_count": 16
        }
      ]
    },
    {
      "cell_type": "markdown",
      "source": [
        "## Closing Coroutines"
      ],
      "metadata": {
        "id": "7viikneC2BxT"
      }
    },
    {
      "cell_type": "code",
      "source": [
        "def greet_me():\n",
        "    print(\"Introduce Yourself:\")\n",
        "    try:\n",
        "      while True:\n",
        "          name = (yield)\n",
        "          print(f\"Hello {name}\")\n",
        "    except GeneratorExit:\n",
        "      print(\"Clsoing Coroutine\")\n",
        "\n",
        "func = greet_me()\n",
        "next(func)\n",
        "func.send(\"Ayush\")\n",
        "func.send(\"Ayush Thada\")\n",
        "func.close()"
      ],
      "metadata": {
        "colab": {
          "base_uri": "https://localhost:8080/"
        },
        "id": "K9n8n2g22ApE",
        "outputId": "b8ce55ad-ff82-4edc-d241-6829aa1c26ba"
      },
      "execution_count": 18,
      "outputs": [
        {
          "output_type": "stream",
          "name": "stdout",
          "text": [
            "Introduce Yourself:\n",
            "Hello Ayush\n",
            "Hello Ayush Thada\n",
            "Clsoing Coroutine\n"
          ]
        }
      ]
    },
    {
      "cell_type": "markdown",
      "source": [
        "#### Courioutine Chains to make a Pipeline"
      ],
      "metadata": {
        "id": "QlpgHwuA3HmT"
      }
    },
    {
      "cell_type": "code",
      "source": [
        "def producer(sentence, next_coroutine):\n",
        "    '''\n",
        "    Producer which just split strings and\n",
        "    feed it to pattern_filter coroutine\n",
        "    '''\n",
        "    tokens = sentence.split(\" \")\n",
        "    for token in tokens:\n",
        "        next_coroutine.send(token)\n",
        "    next_coroutine.close()"
      ],
      "metadata": {
        "id": "O5NNpCwX3BT4"
      },
      "execution_count": 22,
      "outputs": []
    },
    {
      "cell_type": "code",
      "source": [
        "def pattern_filter(pattern=\"ing\", next_coroutine=None):\n",
        "    '''\n",
        "    Search for pattern in received token\n",
        "    and if pattern got matched, send it to\n",
        "    print_token() coroutine for printing\n",
        "    '''\n",
        "    print(\"Searching for {}\".format(pattern))\n",
        "    try:\n",
        "        while True:\n",
        "            token = (yield)\n",
        "            if pattern in token:\n",
        "                next_coroutine.send(token)\n",
        "    except GeneratorExit:\n",
        "        print(\"Done with filtering!!\")\n",
        "        next_coroutine.close()"
      ],
      "metadata": {
        "id": "2dhivkUY32-T"
      },
      "execution_count": 23,
      "outputs": []
    },
    {
      "cell_type": "code",
      "source": [
        "def print_token():\n",
        "    '''\n",
        "    Act as a sink, simply print the\n",
        "    received tokens\n",
        "    '''\n",
        "    print(\"I'm sink, i'll print tokens\")\n",
        "    try:\n",
        "        while True:\n",
        "            token = (yield)\n",
        "            print(token)\n",
        "    except GeneratorExit:\n",
        "        print(\"Done with printing!\")"
      ],
      "metadata": {
        "id": "8kuw0Pi-352t"
      },
      "execution_count": 24,
      "outputs": []
    },
    {
      "cell_type": "code",
      "source": [
        "pt = print_token()\n",
        "pt.__next__()\n",
        "pf = pattern_filter(next_coroutine = pt)\n",
        "pf.__next__()"
      ],
      "metadata": {
        "colab": {
          "base_uri": "https://localhost:8080/"
        },
        "id": "zB9wNUbb41GJ",
        "outputId": "d84a06d7-7467-4c2c-8259-5fe7776329e6"
      },
      "execution_count": 25,
      "outputs": [
        {
          "output_type": "stream",
          "name": "stdout",
          "text": [
            "I'm sink, i'll print tokens\n",
            "Searching for ing\n"
          ]
        }
      ]
    },
    {
      "cell_type": "code",
      "source": [
        "sentence = \"Bob is running behind a fast moving car\"\n",
        "producer(sentence, pf)"
      ],
      "metadata": {
        "colab": {
          "base_uri": "https://localhost:8080/"
        },
        "id": "WmCcXcAw49kc",
        "outputId": "323eb579-5906-4e62-d8cd-e27458b76044"
      },
      "execution_count": 26,
      "outputs": [
        {
          "output_type": "stream",
          "name": "stdout",
          "text": [
            "running\n",
            "moving\n",
            "Done with filtering!!\n",
            "Done with printing!\n"
          ]
        }
      ]
    },
    {
      "cell_type": "code",
      "source": [],
      "metadata": {
        "id": "VNBKq2fV5Cu4"
      },
      "execution_count": null,
      "outputs": []
    }
  ]
}