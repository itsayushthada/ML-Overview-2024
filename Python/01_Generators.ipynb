{
  "nbformat": 4,
  "nbformat_minor": 0,
  "metadata": {
    "colab": {
      "provenance": []
    },
    "kernelspec": {
      "name": "python3",
      "display_name": "Python 3"
    },
    "language_info": {
      "name": "python"
    }
  },
  "cells": [
    {
      "cell_type": "code",
      "source": [
        "import random"
      ],
      "metadata": {
        "id": "W4dSBEJ2pEw1"
      },
      "execution_count": 57,
      "outputs": []
    },
    {
      "cell_type": "markdown",
      "source": [
        "## Infinite Generators"
      ],
      "metadata": {
        "id": "O-csc0fPlFw4"
      }
    },
    {
      "cell_type": "code",
      "execution_count": 13,
      "metadata": {
        "id": "0i7meTjViOzC"
      },
      "outputs": [],
      "source": [
        "# Generator to generate infinite prime numbers\n",
        "\n",
        "def is_prime(x):\n",
        "  for i in range(2, int(x**0.5)+1):\n",
        "    if x % i == 0:\n",
        "      return False\n",
        "  return True\n",
        "\n",
        "def get_prime():\n",
        "    prime = 2\n",
        "    while True:\n",
        "      if is_prime(prime):\n",
        "        yield prime\n",
        "      prime += 1"
      ]
    },
    {
      "cell_type": "code",
      "source": [
        "primes = get_prime()\n",
        "\n",
        "print([next(primes) for _ in range(100)])"
      ],
      "metadata": {
        "colab": {
          "base_uri": "https://localhost:8080/"
        },
        "id": "lEwmE6hpjaiM",
        "outputId": "63f7488f-3fcb-4fac-d5b6-4bb5d380bb10"
      },
      "execution_count": 19,
      "outputs": [
        {
          "output_type": "stream",
          "name": "stdout",
          "text": [
            "[2, 3, 5, 7, 11, 13, 17, 19, 23, 29, 31, 37, 41, 43, 47, 53, 59, 61, 67, 71, 73, 79, 83, 89, 97, 101, 103, 107, 109, 113, 127, 131, 137, 139, 149, 151, 157, 163, 167, 173, 179, 181, 191, 193, 197, 199, 211, 223, 227, 229, 233, 239, 241, 251, 257, 263, 269, 271, 277, 281, 283, 293, 307, 311, 313, 317, 331, 337, 347, 349, 353, 359, 367, 373, 379, 383, 389, 397, 401, 409, 419, 421, 431, 433, 439, 443, 449, 457, 461, 463, 467, 479, 487, 491, 499, 503, 509, 521, 523, 541]\n"
          ]
        }
      ]
    },
    {
      "cell_type": "markdown",
      "source": [
        "## Generators Expression\n",
        "\n",
        "Generator expression is another way of writing the generator function."
      ],
      "metadata": {
        "id": "AjhBP_hYlJK-"
      }
    },
    {
      "cell_type": "code",
      "source": [
        "# Function Execution Counter\n",
        "\n",
        "func = (i for i in range(100))"
      ],
      "metadata": {
        "id": "qiIdbpIcjfJD"
      },
      "execution_count": 26,
      "outputs": []
    },
    {
      "cell_type": "code",
      "source": [
        "for _ in range(10):\n",
        "    print(next(func))"
      ],
      "metadata": {
        "colab": {
          "base_uri": "https://localhost:8080/"
        },
        "id": "xlUvBfK4nXsg",
        "outputId": "2ef1b7fd-36da-4ae6-d2de-fced7a3fb016"
      },
      "execution_count": 27,
      "outputs": [
        {
          "output_type": "stream",
          "name": "stdout",
          "text": [
            "0\n",
            "1\n",
            "2\n",
            "3\n",
            "4\n",
            "5\n",
            "6\n",
            "7\n",
            "8\n",
            "9\n"
          ]
        }
      ]
    },
    {
      "cell_type": "markdown",
      "source": [
        "## State Managment"
      ],
      "metadata": {
        "id": "oInPDVkunzuo"
      }
    },
    {
      "cell_type": "markdown",
      "source": [
        "### Scenario 1"
      ],
      "metadata": {
        "id": "P9-C996JvYom"
      }
    },
    {
      "cell_type": "code",
      "source": [
        "# When you use value = yield, the generator yields None by default,\n",
        "# and it waits for a value to be sent back to it using the send() method.\n",
        "# The sent value is assigned to value. Here’s how it works:#\n",
        "def square_generator_v1():\n",
        "  while True:\n",
        "    num = yield\n",
        "    yield num**2"
      ],
      "metadata": {
        "id": "OVrdztBynYg9"
      },
      "execution_count": 93,
      "outputs": []
    },
    {
      "cell_type": "code",
      "source": [
        "# Create Generator\n",
        "squarer = square_generator_v1()\n",
        "\n",
        "for _ in range(5):\n",
        "  # Start the generator\n",
        "  print(next(squarer))\n",
        "  # Invodek Generator\n",
        "  num = round(100*random.random(), 2)\n",
        "  print(num, \"\"*10, squarer.send(num))"
      ],
      "metadata": {
        "colab": {
          "base_uri": "https://localhost:8080/"
        },
        "id": "4Zv1kvJ-oBkH",
        "outputId": "b2f4e4d0-6ffd-4ad4-87c4-0e97200a18c3"
      },
      "execution_count": 94,
      "outputs": [
        {
          "output_type": "stream",
          "name": "stdout",
          "text": [
            "None\n",
            "43.99  1935.1201\n",
            "None\n",
            "22.69  514.8361000000001\n",
            "None\n",
            "81.5  6642.25\n",
            "None\n",
            "99.51  9902.2401\n",
            "None\n",
            "34.49  1189.5601000000001\n"
          ]
        }
      ]
    },
    {
      "cell_type": "markdown",
      "source": [
        "### Scenario 2"
      ],
      "metadata": {
        "id": "orHbO1zzva0Z"
      }
    },
    {
      "cell_type": "code",
      "source": [
        "# When you use value = yield value, the generator yields value,\n",
        "# and then it waits for a value to be sent back to it using the send() method.\n",
        "# The sent value is assigned to value. Here’s how it works:\n",
        "def square_generator_v2():\n",
        "  num = 1\n",
        "  while True:\n",
        "    num = yield num\n",
        "    yield num**2"
      ],
      "metadata": {
        "id": "6M-EY0T0or7Y"
      },
      "execution_count": 95,
      "outputs": []
    },
    {
      "cell_type": "code",
      "source": [
        "# Create Generator\n",
        "squarer = square_generator_v2()\n",
        "\n",
        "# Start the generator\n",
        "print(next(squarer))\n",
        "\n",
        "for _ in range(5):\n",
        "  # Invodek Generator\n",
        "  num = round(100*random.random(), 2)\n",
        "  print(num, \"\"*10, squarer.send(num))"
      ],
      "metadata": {
        "colab": {
          "base_uri": "https://localhost:8080/"
        },
        "id": "w7En1RPapMmF",
        "outputId": "ac6ee99c-0bfd-418f-d0d4-29091b97795f"
      },
      "execution_count": 96,
      "outputs": [
        {
          "output_type": "stream",
          "name": "stdout",
          "text": [
            "1\n",
            "78.83  6214.1689\n",
            "42.62  78.83\n",
            "53.66  2879.3956\n",
            "70.25  53.66\n",
            "65.78  4327.0084\n"
          ]
        }
      ]
    },
    {
      "cell_type": "markdown",
      "source": [
        "### Scenario 3"
      ],
      "metadata": {
        "id": "AGAgDbfgvdiv"
      }
    },
    {
      "cell_type": "code",
      "source": [
        "def square_generator_v3():\n",
        "  while True:\n",
        "    yield num**2"
      ],
      "metadata": {
        "id": "iJLQDoscrOvK"
      },
      "execution_count": 101,
      "outputs": []
    },
    {
      "cell_type": "code",
      "source": [
        "# Create Generator\n",
        "squarer = square_generator_v3()\n",
        "\n",
        "# Start the generator\n",
        "print(next(squarer))\n",
        "\n",
        "for _ in range(5):\n",
        "  # Invodek Generator\n",
        "  num = round(100*random.random(), 2)\n",
        "  print(num, \"\"*10, squarer.send(num))"
      ],
      "metadata": {
        "colab": {
          "base_uri": "https://localhost:8080/"
        },
        "id": "sl-5J6CTsP5i",
        "outputId": "a36be41b-c067-433f-f2e0-b80088c5616f"
      },
      "execution_count": 104,
      "outputs": [
        {
          "output_type": "stream",
          "name": "stdout",
          "text": [
            "9962.036100000001\n",
            "52.0  2704.0\n",
            "63.22  3996.7684\n",
            "30.79  948.0241\n",
            "36.21  1311.1641\n",
            "67.15  4509.1225\n"
          ]
        }
      ]
    },
    {
      "cell_type": "markdown",
      "source": [
        "## Exception Handeling"
      ],
      "metadata": {
        "id": "96ZRj-PBu1jP"
      }
    },
    {
      "cell_type": "markdown",
      "source": [
        "## Scenario 1"
      ],
      "metadata": {
        "id": "ftu5ny-BvhPu"
      }
    },
    {
      "cell_type": "code",
      "source": [
        "def gen_with_error():\n",
        "    yield 1\n",
        "    raise ValueError(\"Error inside generator\")"
      ],
      "metadata": {
        "id": "h7Aq2_ecsSKm"
      },
      "execution_count": 109,
      "outputs": []
    },
    {
      "cell_type": "markdown",
      "source": [
        "#### Run 1"
      ],
      "metadata": {
        "id": "0hP4C6ZWvIWS"
      }
    },
    {
      "cell_type": "code",
      "source": [
        "g = gen_with_error()\n",
        "print(next(g))"
      ],
      "metadata": {
        "colab": {
          "base_uri": "https://localhost:8080/"
        },
        "id": "Uh2xKdPTu5GK",
        "outputId": "1807d199-3198-482b-8321-cd3ae7255f74"
      },
      "execution_count": 110,
      "outputs": [
        {
          "output_type": "stream",
          "name": "stdout",
          "text": [
            "1\n"
          ]
        }
      ]
    },
    {
      "cell_type": "code",
      "source": [
        "next(g)"
      ],
      "metadata": {
        "colab": {
          "base_uri": "https://localhost:8080/",
          "height": 228
        },
        "id": "w88iC-1FvFWP",
        "outputId": "9be29313-b320-437b-e19b-d2fc3ea38e8a"
      },
      "execution_count": 111,
      "outputs": [
        {
          "output_type": "error",
          "ename": "ValueError",
          "evalue": "Error inside generator",
          "traceback": [
            "\u001b[0;31m---------------------------------------------------------------------------\u001b[0m",
            "\u001b[0;31mValueError\u001b[0m                                Traceback (most recent call last)",
            "\u001b[0;32m<ipython-input-111-e734f8aca5ac>\u001b[0m in \u001b[0;36m<cell line: 1>\u001b[0;34m()\u001b[0m\n\u001b[0;32m----> 1\u001b[0;31m \u001b[0mnext\u001b[0m\u001b[0;34m(\u001b[0m\u001b[0mg\u001b[0m\u001b[0;34m)\u001b[0m\u001b[0;34m\u001b[0m\u001b[0;34m\u001b[0m\u001b[0m\n\u001b[0m",
            "\u001b[0;32m<ipython-input-109-09ff54c6cac8>\u001b[0m in \u001b[0;36mgen_with_error\u001b[0;34m()\u001b[0m\n\u001b[1;32m      1\u001b[0m \u001b[0;32mdef\u001b[0m \u001b[0mgen_with_error\u001b[0m\u001b[0;34m(\u001b[0m\u001b[0;34m)\u001b[0m\u001b[0;34m:\u001b[0m\u001b[0;34m\u001b[0m\u001b[0;34m\u001b[0m\u001b[0m\n\u001b[1;32m      2\u001b[0m     \u001b[0;32myield\u001b[0m \u001b[0;36m1\u001b[0m\u001b[0;34m\u001b[0m\u001b[0;34m\u001b[0m\u001b[0m\n\u001b[0;32m----> 3\u001b[0;31m     \u001b[0;32mraise\u001b[0m \u001b[0mValueError\u001b[0m\u001b[0;34m(\u001b[0m\u001b[0;34m\"Error inside generator\"\u001b[0m\u001b[0;34m)\u001b[0m\u001b[0;34m\u001b[0m\u001b[0;34m\u001b[0m\u001b[0m\n\u001b[0m",
            "\u001b[0;31mValueError\u001b[0m: Error inside generator"
          ]
        }
      ]
    },
    {
      "cell_type": "markdown",
      "source": [
        "#### Run 2"
      ],
      "metadata": {
        "id": "knauzaXdvMjs"
      }
    },
    {
      "cell_type": "code",
      "source": [
        "g = gen_with_error()\n",
        "print(next(g))"
      ],
      "metadata": {
        "colab": {
          "base_uri": "https://localhost:8080/"
        },
        "id": "ksJ2905xvODu",
        "outputId": "95078a2c-b37d-42db-df86-5967e47daf6b"
      },
      "execution_count": 112,
      "outputs": [
        {
          "output_type": "stream",
          "name": "stdout",
          "text": [
            "1\n"
          ]
        }
      ]
    },
    {
      "cell_type": "code",
      "source": [
        "try:\n",
        "    g.throw(ValueError, \"Error thrown\")\n",
        "except ValueError as e:\n",
        "    print(e)"
      ],
      "metadata": {
        "colab": {
          "base_uri": "https://localhost:8080/"
        },
        "id": "Aynbs8Uru7UO",
        "outputId": "4c4909e7-b078-405a-c74a-96259dfd1635"
      },
      "execution_count": 113,
      "outputs": [
        {
          "output_type": "stream",
          "name": "stdout",
          "text": [
            "Error thrown\n"
          ]
        }
      ]
    },
    {
      "cell_type": "markdown",
      "source": [
        "### Scenario 2"
      ],
      "metadata": {
        "id": "nrKjR7I8vjSh"
      }
    },
    {
      "cell_type": "markdown",
      "source": [
        "#### Run 1"
      ],
      "metadata": {
        "id": "ZkKawbDMwOvc"
      }
    },
    {
      "cell_type": "code",
      "source": [
        "def error_handling_generator():\n",
        "    try:\n",
        "        yield 1\n",
        "        yield 2\n",
        "        raise ValueError(\"An error occurred\")\n",
        "        yield 3\n",
        "    except ValueError as e:\n",
        "        print(e)\n",
        "    yield 4"
      ],
      "metadata": {
        "id": "FTBYTnKFvCOy"
      },
      "execution_count": 123,
      "outputs": []
    },
    {
      "cell_type": "code",
      "source": [
        "gen = error_handling_generator()"
      ],
      "metadata": {
        "id": "R2j2s_XWvofG"
      },
      "execution_count": 124,
      "outputs": []
    },
    {
      "cell_type": "code",
      "source": [
        "next(gen)"
      ],
      "metadata": {
        "colab": {
          "base_uri": "https://localhost:8080/"
        },
        "id": "CnaoyzWqvspk",
        "outputId": "8c47cf4e-a560-4e4a-805f-d84057d9c6a0"
      },
      "execution_count": 125,
      "outputs": [
        {
          "output_type": "execute_result",
          "data": {
            "text/plain": [
              "1"
            ]
          },
          "metadata": {},
          "execution_count": 125
        }
      ]
    },
    {
      "cell_type": "code",
      "source": [
        "next(gen)"
      ],
      "metadata": {
        "colab": {
          "base_uri": "https://localhost:8080/"
        },
        "id": "GUezC87FvtpU",
        "outputId": "c986f81b-c444-4393-c3db-71ec1fce3687"
      },
      "execution_count": 126,
      "outputs": [
        {
          "output_type": "execute_result",
          "data": {
            "text/plain": [
              "2"
            ]
          },
          "metadata": {},
          "execution_count": 126
        }
      ]
    },
    {
      "cell_type": "code",
      "source": [
        "next(gen)"
      ],
      "metadata": {
        "colab": {
          "base_uri": "https://localhost:8080/"
        },
        "id": "R3Q9msqnvulB",
        "outputId": "e8d77103-7879-40cc-9eec-7ad36a3af257"
      },
      "execution_count": 127,
      "outputs": [
        {
          "output_type": "stream",
          "name": "stdout",
          "text": [
            "An error occurred\n"
          ]
        },
        {
          "output_type": "execute_result",
          "data": {
            "text/plain": [
              "4"
            ]
          },
          "metadata": {},
          "execution_count": 127
        }
      ]
    },
    {
      "cell_type": "code",
      "source": [
        "next(gen)"
      ],
      "metadata": {
        "colab": {
          "base_uri": "https://localhost:8080/",
          "height": 141
        },
        "id": "0d6oQ3JuvvpE",
        "outputId": "06d48439-eb9a-43db-a1be-37b88930004c"
      },
      "execution_count": 128,
      "outputs": [
        {
          "output_type": "error",
          "ename": "StopIteration",
          "evalue": "",
          "traceback": [
            "\u001b[0;31m---------------------------------------------------------------------------\u001b[0m",
            "\u001b[0;31mStopIteration\u001b[0m                             Traceback (most recent call last)",
            "\u001b[0;32m<ipython-input-128-6e72e47198db>\u001b[0m in \u001b[0;36m<cell line: 1>\u001b[0;34m()\u001b[0m\n\u001b[0;32m----> 1\u001b[0;31m \u001b[0mnext\u001b[0m\u001b[0;34m(\u001b[0m\u001b[0mgen\u001b[0m\u001b[0;34m)\u001b[0m\u001b[0;34m\u001b[0m\u001b[0;34m\u001b[0m\u001b[0m\n\u001b[0m",
            "\u001b[0;31mStopIteration\u001b[0m: "
          ]
        }
      ]
    },
    {
      "cell_type": "markdown",
      "source": [
        "#### Run 2"
      ],
      "metadata": {
        "id": "l-Y2JXCywRRu"
      }
    },
    {
      "cell_type": "code",
      "source": [
        "def error_handling_generator():\n",
        "    try:\n",
        "        yield 1\n",
        "        yield 2\n",
        "        raise ValueError(\"An error occurred\")\n",
        "        yield 3\n",
        "    except ValueError as e:\n",
        "        print(e)"
      ],
      "metadata": {
        "id": "5__n8PBRvxIA"
      },
      "execution_count": 129,
      "outputs": []
    },
    {
      "cell_type": "code",
      "source": [
        "gen = error_handling_generator()"
      ],
      "metadata": {
        "id": "EwCdb8MqwTc6"
      },
      "execution_count": 130,
      "outputs": []
    },
    {
      "cell_type": "code",
      "source": [
        "next(gen)"
      ],
      "metadata": {
        "colab": {
          "base_uri": "https://localhost:8080/"
        },
        "id": "8L6Dq1U1wVcM",
        "outputId": "6e2adb70-e9ab-42c3-b0a5-5def318eb646"
      },
      "execution_count": 131,
      "outputs": [
        {
          "output_type": "execute_result",
          "data": {
            "text/plain": [
              "1"
            ]
          },
          "metadata": {},
          "execution_count": 131
        }
      ]
    },
    {
      "cell_type": "code",
      "source": [
        "next(gen)"
      ],
      "metadata": {
        "colab": {
          "base_uri": "https://localhost:8080/"
        },
        "id": "9VOlzTgewWRu",
        "outputId": "405f9dc2-288d-4a0e-bf24-bb5647c15924"
      },
      "execution_count": 132,
      "outputs": [
        {
          "output_type": "execute_result",
          "data": {
            "text/plain": [
              "2"
            ]
          },
          "metadata": {},
          "execution_count": 132
        }
      ]
    },
    {
      "cell_type": "code",
      "source": [
        "next(gen)"
      ],
      "metadata": {
        "colab": {
          "base_uri": "https://localhost:8080/",
          "height": 158
        },
        "id": "lgnotrncwXdh",
        "outputId": "c02b8670-6c8b-4177-a08a-3c99a2e28d94"
      },
      "execution_count": 133,
      "outputs": [
        {
          "output_type": "stream",
          "name": "stdout",
          "text": [
            "An error occurred\n"
          ]
        },
        {
          "output_type": "error",
          "ename": "StopIteration",
          "evalue": "",
          "traceback": [
            "\u001b[0;31m---------------------------------------------------------------------------\u001b[0m",
            "\u001b[0;31mStopIteration\u001b[0m                             Traceback (most recent call last)",
            "\u001b[0;32m<ipython-input-133-6e72e47198db>\u001b[0m in \u001b[0;36m<cell line: 1>\u001b[0;34m()\u001b[0m\n\u001b[0;32m----> 1\u001b[0;31m \u001b[0mnext\u001b[0m\u001b[0;34m(\u001b[0m\u001b[0mgen\u001b[0m\u001b[0;34m)\u001b[0m\u001b[0;34m\u001b[0m\u001b[0;34m\u001b[0m\u001b[0m\n\u001b[0m",
            "\u001b[0;31mStopIteration\u001b[0m: "
          ]
        }
      ]
    },
    {
      "cell_type": "code",
      "source": [
        "next(gen)"
      ],
      "metadata": {
        "colab": {
          "base_uri": "https://localhost:8080/",
          "height": 141
        },
        "id": "cGRGzF_iwYyg",
        "outputId": "ba51d2e0-6655-4b57-e66b-15cce645061e"
      },
      "execution_count": 134,
      "outputs": [
        {
          "output_type": "error",
          "ename": "StopIteration",
          "evalue": "",
          "traceback": [
            "\u001b[0;31m---------------------------------------------------------------------------\u001b[0m",
            "\u001b[0;31mStopIteration\u001b[0m                             Traceback (most recent call last)",
            "\u001b[0;32m<ipython-input-134-6e72e47198db>\u001b[0m in \u001b[0;36m<cell line: 1>\u001b[0;34m()\u001b[0m\n\u001b[0;32m----> 1\u001b[0;31m \u001b[0mnext\u001b[0m\u001b[0;34m(\u001b[0m\u001b[0mgen\u001b[0m\u001b[0;34m)\u001b[0m\u001b[0;34m\u001b[0m\u001b[0;34m\u001b[0m\u001b[0m\n\u001b[0m",
            "\u001b[0;31mStopIteration\u001b[0m: "
          ]
        }
      ]
    },
    {
      "cell_type": "code",
      "source": [],
      "metadata": {
        "id": "JKsQMpOSwbdb"
      },
      "execution_count": null,
      "outputs": []
    }
  ]
}