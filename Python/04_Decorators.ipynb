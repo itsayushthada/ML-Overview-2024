{
  "nbformat": 4,
  "nbformat_minor": 0,
  "metadata": {
    "colab": {
      "provenance": []
    },
    "kernelspec": {
      "name": "python3",
      "display_name": "Python 3"
    },
    "language_info": {
      "name": "python"
    }
  },
  "cells": [
    {
      "cell_type": "code",
      "source": [
        "import time\n",
        "import math"
      ],
      "metadata": {
        "id": "1cKM-LcG7-b9"
      },
      "execution_count": 9,
      "outputs": []
    },
    {
      "cell_type": "markdown",
      "source": [
        "## Functions: First Class Object"
      ],
      "metadata": {
        "id": "5wWWafdI5ulq"
      }
    },
    {
      "cell_type": "code",
      "source": [
        "## Treating the functions as objects\n",
        "\n",
        "def echo(name):\n",
        "  print(f\"Hello {name}\")\n",
        "\n",
        "func = echo\n",
        "func(\"Ayush\")"
      ],
      "metadata": {
        "colab": {
          "base_uri": "https://localhost:8080/"
        },
        "id": "y7cZLfi75xjL",
        "outputId": "8470097a-8678-448b-c776-d4ececc9ae58"
      },
      "execution_count": 5,
      "outputs": [
        {
          "output_type": "stream",
          "name": "stdout",
          "text": [
            "Hello Ayush\n"
          ]
        }
      ]
    },
    {
      "cell_type": "code",
      "source": [
        "## Passing the function as an argument\n",
        "\n",
        "def shout(text):\n",
        "    return text.upper()\n",
        "\n",
        "def whisper(text):\n",
        "    return text.lower()\n",
        "\n",
        "def greet(func):\n",
        "    # storing the function in a variable\n",
        "    greeting = func(\"\"\"Hi, I am created by a function passed as an argument.\"\"\")\n",
        "    print (greeting)\n",
        "\n",
        "\n",
        "greet(shout)\n",
        "greet(whisper)"
      ],
      "metadata": {
        "colab": {
          "base_uri": "https://localhost:8080/"
        },
        "id": "Ne3O8ZoZ6G9s",
        "outputId": "c0a65ae8-769d-48c1-c4e2-abf71cea8574"
      },
      "execution_count": 6,
      "outputs": [
        {
          "output_type": "stream",
          "name": "stdout",
          "text": [
            "HI, I AM CREATED BY A FUNCTION PASSED AS AN ARGUMENT.\n",
            "hi, i am created by a function passed as an argument.\n"
          ]
        }
      ]
    },
    {
      "cell_type": "code",
      "source": [
        "## Returning functions from another function\n",
        "\n",
        "def power(n):\n",
        "  def inner(x):\n",
        "    return x**n\n",
        "  return inner\n",
        "\n",
        "square = power(2)\n",
        "cube = power(3)\n",
        "\n",
        "print(square(5))\n",
        "print(cube(5))"
      ],
      "metadata": {
        "colab": {
          "base_uri": "https://localhost:8080/"
        },
        "id": "7fU4WCk96ksU",
        "outputId": "ad285c03-d873-4318-c9a3-abf90cbcc40e"
      },
      "execution_count": 7,
      "outputs": [
        {
          "output_type": "stream",
          "name": "stdout",
          "text": [
            "25\n",
            "125\n"
          ]
        }
      ]
    },
    {
      "cell_type": "markdown",
      "source": [
        "## Basic Decorators\n",
        "\n",
        "The decorators are used to modify the behaviour of function or class. In Decorators, functions are taken as the argument into another function and then called inside the wrapper function.\n",
        "\n",
        "Syntax for Decorator:\n",
        "\n",
        "```\n",
        "@gfg_decorator\n",
        "def hello_decorator():\n",
        "    print(\"Gfg\")\n",
        "```\n",
        "\n",
        "Above code is equivalent to -\n",
        "```\n",
        "def hello_decorator():\n",
        "    print(\"Gfg\")\n",
        "    \n",
        "hello_decorator = gfg_decorator(hello_decorator)'''\n",
        "```"
      ],
      "metadata": {
        "id": "TGbUeKOC7O2B"
      }
    },
    {
      "cell_type": "code",
      "source": [
        "# defining a decorator\n",
        "def hello_decorator(func):\n",
        "\n",
        "    # inner1 is a Wrapper function in\n",
        "    # which the argument is called\n",
        "\n",
        "    # inner function can access the outer local\n",
        "    # functions like in this case \"func\"\n",
        "    def inner1():\n",
        "        print(\"Hello, this is before function execution\")\n",
        "\n",
        "        # calling the actual function now\n",
        "        # inside the wrapper function.\n",
        "        func()\n",
        "\n",
        "        print(\"This is after function execution\")\n",
        "\n",
        "    return inner1\n",
        "\n",
        "\n",
        "# defining a function, to be called inside wrapper\n",
        "def function_to_be_used():\n",
        "    print(\"This is inside the function !!\")\n",
        "\n",
        "\n",
        "# passing 'function_to_be_used' inside the\n",
        "# decorator to control its behaviour\n",
        "function_to_be_used = hello_decorator(function_to_be_used)\n",
        "\n",
        "# calling the function\n",
        "function_to_be_used()"
      ],
      "metadata": {
        "colab": {
          "base_uri": "https://localhost:8080/"
        },
        "id": "fBn3HpsB7OOv",
        "outputId": "94b41dd2-ce6e-4aad-ffd7-b1ff8a4fcba9"
      },
      "execution_count": 8,
      "outputs": [
        {
          "output_type": "stream",
          "name": "stdout",
          "text": [
            "Hello, this is before function execution\n",
            "This is inside the function !!\n",
            "This is after function execution\n"
          ]
        }
      ]
    },
    {
      "cell_type": "markdown",
      "source": [
        "#### Example 1: Non Returning Functions"
      ],
      "metadata": {
        "id": "nxM6hmiM719l"
      }
    },
    {
      "cell_type": "code",
      "source": [
        "# decorator to calculate duration taken by any function.\n",
        "def calculate_time(func):\n",
        "\n",
        "    def inner1(*args, **kwargs):\n",
        "\n",
        "        # storing time before function execution\n",
        "        begin = time.time()\n",
        "\n",
        "        func(*args, **kwargs)\n",
        "\n",
        "        # storing time after function execution\n",
        "        end = time.time()\n",
        "        print(f\"Total time taken in {func.__name__} is {end - begin} milliseconds.\")\n",
        "\n",
        "    return inner1\n",
        "\n",
        "\n",
        "\n",
        "# this can be added to any function present,\n",
        "# in this case to calculate a factorial\n",
        "@calculate_time\n",
        "def factorial(num):\n",
        "\n",
        "    # sleep 2 seconds because it takes very less time\n",
        "    # so that you can see the actual difference\n",
        "    time.sleep(2)\n",
        "    print(math.factorial(num))"
      ],
      "metadata": {
        "id": "QXl-CoYf6wCq"
      },
      "execution_count": 12,
      "outputs": []
    },
    {
      "cell_type": "code",
      "source": [
        "# calling the function.\n",
        "factorial(10)"
      ],
      "metadata": {
        "colab": {
          "base_uri": "https://localhost:8080/"
        },
        "id": "-fHLSwUS8LGs",
        "outputId": "20082d91-1151-48d6-9783-0c987e6c0a37"
      },
      "execution_count": 13,
      "outputs": [
        {
          "output_type": "stream",
          "name": "stdout",
          "text": [
            "3628800\n",
            "Total time taken in factorial is 2.002328872680664 milliseconds.\n"
          ]
        }
      ]
    },
    {
      "cell_type": "markdown",
      "source": [
        "#### Example 2: Returing Functions"
      ],
      "metadata": {
        "id": "PCR16pv58lmu"
      }
    },
    {
      "cell_type": "code",
      "source": [
        "def hello_decorator(func):\n",
        "    def inner1(*args, **kwargs):\n",
        "\n",
        "        print(\"before Execution\")\n",
        "\n",
        "        # getting the returned value\n",
        "        returned_value = func(*args, **kwargs)\n",
        "        print(\"after Execution\")\n",
        "\n",
        "        # returning the value to the original frame\n",
        "        return returned_value\n",
        "\n",
        "    return inner1\n",
        "\n",
        "\n",
        "# adding decorator to the function\n",
        "@hello_decorator\n",
        "def sum_two_numbers(a, b):\n",
        "    print(\"Inside the function\")\n",
        "    return a + b"
      ],
      "metadata": {
        "id": "RfEO_Rre8Lzv"
      },
      "execution_count": 14,
      "outputs": []
    },
    {
      "cell_type": "code",
      "source": [
        "a = 10\n",
        "b = 7\n",
        "print(\"Sum =\", sum_two_numbers(a, b))"
      ],
      "metadata": {
        "colab": {
          "base_uri": "https://localhost:8080/"
        },
        "id": "ISmffVLn80To",
        "outputId": "3750fc8b-50a2-4eb2-c5e5-73b4dfc28e8c"
      },
      "execution_count": 15,
      "outputs": [
        {
          "output_type": "stream",
          "name": "stdout",
          "text": [
            "before Execution\n",
            "Inside the function\n",
            "after Execution\n",
            "Sum = 17\n"
          ]
        }
      ]
    },
    {
      "cell_type": "markdown",
      "source": [
        "## Chaining Decorators\n",
        "In simpler terms chaining decorators means decorating a function with multiple decorators"
      ],
      "metadata": {
        "id": "PhvvScJM8-Sm"
      }
    },
    {
      "cell_type": "code",
      "source": [
        "def decor1(func):\n",
        "    def inner():\n",
        "        x = func()\n",
        "        return x * x\n",
        "    return inner\n",
        "\n",
        "def decor2(func):\n",
        "    def inner():\n",
        "        x = func()\n",
        "        return 2 * x\n",
        "    return inner"
      ],
      "metadata": {
        "id": "E8f1Rt3g84KL"
      },
      "execution_count": 17,
      "outputs": []
    },
    {
      "cell_type": "code",
      "source": [
        "@decor1\n",
        "@decor2\n",
        "def num1():\n",
        "    return 10\n",
        "\n",
        "@decor2\n",
        "@decor1\n",
        "def num2():\n",
        "    return 10"
      ],
      "metadata": {
        "id": "3i_KePnb9OR4"
      },
      "execution_count": 19,
      "outputs": []
    },
    {
      "cell_type": "code",
      "source": [
        "print(num1())\n",
        "print(num2())"
      ],
      "metadata": {
        "colab": {
          "base_uri": "https://localhost:8080/"
        },
        "id": "-SgGhdVg9T3B",
        "outputId": "6073a1a9-d605-40af-b735-b4185205377c"
      },
      "execution_count": 20,
      "outputs": [
        {
          "output_type": "stream",
          "name": "stdout",
          "text": [
            "400\n",
            "200\n"
          ]
        }
      ]
    },
    {
      "cell_type": "code",
      "source": [],
      "metadata": {
        "id": "JfKUR6xJ9YpR"
      },
      "execution_count": null,
      "outputs": []
    }
  ]
}